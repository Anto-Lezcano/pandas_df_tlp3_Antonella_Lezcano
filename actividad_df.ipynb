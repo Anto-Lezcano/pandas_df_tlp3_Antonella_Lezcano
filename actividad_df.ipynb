{
 "cells": [
  {
   "cell_type": "markdown",
   "id": "12ad2501",
   "metadata": {},
   "source": [
    "# Actividad - Trabajando con DataFrames de Pandas.\n",
    "## Criterios de evaluación.\n",
    "\n",
    "* Se deben utilizar nombres de variables descriptivos y claros (Utilizar la nomeclatura correspondiente para los nombres de variables).\n",
    "* Comentarios claros y concisos que expliquen el propósito de cada sección del código.\n",
    "* Utilizar mensajes de commit **descriptivos**. (Puedes utilizar la extension CONVENTIONAL COMMIT de VS-CODE). \n",
    "* Entrega en tiempo y forma.\n",
    "* Todo el código desarrollado debe ser subido a un repositorio en GitHub (el nombre del repositorio de seguir la siguiente estructura: pandas_df_tlp3_nombre_apellido).\n",
    "* Para resolver las actividades se debe insertar casillas de codigo entre cada actividad del cuaderno de Jupyter\n",
    "* Deben trabajar con el datasets adjunto a la actividad\n",
    "\n",
    "### ¡Importante!\n",
    "**El incumplimiento de los criterios de evaluación restará puntos en la nota final del práctico!**"
   ]
  },
  {
   "cell_type": "code",
   "execution_count": 2,
   "id": "afc60e66",
   "metadata": {},
   "outputs": [
    {
     "name": "stdout",
     "output_type": "stream",
     "text": [
      "Index(['Id', 'EmployeeName', 'JobTitle', 'BasePay', 'OvertimePay', 'OtherPay',\n",
      "       'Benefits', 'TotalPay', 'TotalPayBenefits', 'Year', 'Notes', 'Agency',\n",
      "       'Status'],\n",
      "      dtype='object')\n"
     ]
    }
   ],
   "source": [
    "import pandas as pd\n",
    "import sqlite3\n",
    "\n",
    "#Aqui agrega la conexión a la base de datos\n",
    "conection = sqlite3.connect('Salaries.sqlite')\n",
    "#Crea el dataframe con los datos del datasets\n",
    "df = pd.read_sql_query(\"SELECT * FROM salaries\", conection)\n",
    "#Cierra la conexión a la base de datos\n",
    "conection.close()\n",
    "\n",
    "print(df.columns)"
   ]
  },
  {
   "cell_type": "markdown",
   "id": "b993b225",
   "metadata": {},
   "source": [
    "1. **Top 10 empleados con mayor salario total (incluyendo beneficios)**\n",
    "Extrae e imprime un top 10 de expleados con mayor salario incluyendo los beneficios \n"
   ]
  },
  {
   "cell_type": "code",
   "execution_count": 8,
   "id": "135f2471",
   "metadata": {},
   "outputs": [
    {
     "name": "stdout",
     "output_type": "stream",
     "text": [
      "Mayores salarios:\n",
      "0         567595.43\n",
      "1         538909.28\n",
      "110531    510732.68\n",
      "110532    479652.21\n",
      "110533    436224.36\n",
      "72925     425815.28\n",
      "72926     422353.40\n",
      "110534    418019.22\n",
      "110535    417435.10\n",
      "110536    415767.94\n",
      "Name: TotalPayBenefits, dtype: float64\n"
     ]
    }
   ],
   "source": [
    "#todo\n",
    "print('Mayores salarios:')\n",
    "#Muestra los 10 mayores salarios\n",
    "print(df['TotalPayBenefits'].nlargest(10))"
   ]
  },
  {
   "cell_type": "markdown",
   "id": "fd03ce6c",
   "metadata": {},
   "source": [
    "2. **Filtrar empleados con más de 50,000 en horas extra, la columna a tratar es: (OvertimePay)**"
   ]
  },
  {
   "cell_type": "code",
   "execution_count": 21,
   "id": "c5dc65c7",
   "metadata": {},
   "outputs": [
    {
     "name": "stdout",
     "output_type": "stream",
     "text": [
      "              EmployeeName  OvertimePay\n",
      "1             GARY JIMENEZ    245131.88\n",
      "2           ALBERT PARDINI    106088.18\n",
      "3        CHRISTOPHER CHONG     56120.71\n",
      "6                ALSON LEE     89062.90\n",
      "8           MICHAEL MORRIS     86362.68\n",
      "...                    ...          ...\n",
      "118288    Francisco A Arce     51625.42\n",
      "118342    Felix Pagatpatan     52550.53\n",
      "119450         Bobby Jones     50265.23\n",
      "119607       Hung V Nguyen     74935.96\n",
      "120204  Girma-Worku Zeleke     54738.36\n",
      "\n",
      "[2165 rows x 2 columns]\n"
     ]
    }
   ],
   "source": [
    "#todo\n",
    "df['OvertimePay'] = pd.to_numeric(df['OvertimePay'], errors='coerce')\n",
    "print(df[df['OvertimePay']> 50000][['EmployeeName', 'OvertimePay']])"
   ]
  },
  {
   "cell_type": "markdown",
   "id": "518b4eab",
   "metadata": {},
   "source": [
    "3. **Contar cuántos empleados únicos hay por año**"
   ]
  },
  {
   "cell_type": "code",
   "execution_count": null,
   "id": "e35c5908",
   "metadata": {},
   "outputs": [
    {
     "name": "stdout",
     "output_type": "stream",
     "text": [
      "Empleados por año:\n"
     ]
    },
    {
     "data": {
      "text/plain": [
       "Year\n",
       "2011    33878\n",
       "2012    34349\n",
       "2013    36150\n",
       "2014    36684\n",
       "Name: EmployeeName, dtype: int64"
      ]
     },
     "execution_count": 51,
     "metadata": {},
     "output_type": "execute_result"
    }
   ],
   "source": [
    "#Muestra empleados por año\n",
    "print('Empleados por año:')\n",
    "df.groupby('Year')['EmployeeName'].nunique()"
   ]
  },
  {
   "cell_type": "markdown",
   "id": "9105e992",
   "metadata": {},
   "source": [
    "4. **Ver cuántos cargos únicos (JobTitle) existen y los 5 más comunes**"
   ]
  },
  {
   "cell_type": "code",
   "execution_count": 52,
   "id": "e388d537",
   "metadata": {},
   "outputs": [
    {
     "name": "stdout",
     "output_type": "stream",
     "text": [
      "\n",
      "Cargos unicos: \n",
      "2159\n",
      "\n",
      "Cargos mas comunes:\n"
     ]
    },
    {
     "data": {
      "text/plain": [
       "JobTitle\n",
       "Transit Operator                7036\n",
       "Special Nurse                   4389\n",
       "Registered Nurse                3736\n",
       "Public Svc Aide-Public Works    2518\n",
       "Police Officer 3                2421\n",
       "Name: count, dtype: int64"
      ]
     },
     "execution_count": 52,
     "metadata": {},
     "output_type": "execute_result"
    }
   ],
   "source": [
    "#Muestra los cargos unicos\n",
    "cargos_unicos = df['JobTitle'].nunique()\n",
    "print(f'''\n",
    "Cargos unicos: \n",
    "{cargos_unicos}\n",
    "''')\n",
    "\n",
    "print('Cargos mas comunes:')\n",
    "#Muestra los 5 cargos mas comunes\n",
    "df[\"JobTitle\"].value_counts().head(5)\n"
   ]
  },
  {
   "cell_type": "markdown",
   "id": "b34c7043",
   "metadata": {},
   "source": [
    "5. **Mostrar el salario total (TotalPay) promedio por año**"
   ]
  },
  {
   "cell_type": "code",
   "execution_count": null,
   "id": "64d765f0",
   "metadata": {},
   "outputs": [
    {
     "name": "stdout",
     "output_type": "stream",
     "text": [
      "\n",
      "El salario promedio por año es: \n",
      "Year\n",
      "2011    71744.103871\n",
      "2012    74113.262265\n",
      "2013    77611.443142\n",
      "2014    75463.918140\n",
      "Name: TotalPay, dtype: float64\n",
      "      \n"
     ]
    }
   ],
   "source": [
    "#todo\n",
    "salario_promedio = df.groupby('Year')['TotalPay'].mean()\n",
    "\n",
    "print(f'''\n",
    "El salario promedio por año es: \n",
    "{salario_promedio}\n",
    "    ''')"
   ]
  },
  {
   "cell_type": "markdown",
   "id": "cd1d7071",
   "metadata": {},
   "source": [
    "6. **Exporta todos los datos a un CSV y muestra los ultimos 10 valores**"
   ]
  },
  {
   "cell_type": "code",
   "execution_count": 54,
   "id": "1f27e45c",
   "metadata": {},
   "outputs": [
    {
     "name": "stdout",
     "output_type": "stream",
     "text": [
      "\n",
      "Ultimos 10 valores del CSV:\n",
      "            Id      EmployeeName                      JobTitle       BasePay  \\\n",
      "148644  148645      Randy D Winn  Stationary Eng, Sewage Plant          0.00   \n",
      "148645  148646  Carolyn A Wilson     Human Services Technician          0.00   \n",
      "148646  148647      Not provided                  Not provided  Not Provided   \n",
      "148647  148648    Joann Anderson   Communications Dispatcher 2          0.00   \n",
      "148648  148649       Leon Walker                     Custodian          0.00   \n",
      "148649  148650     Roy I Tillery                     Custodian          0.00   \n",
      "148650  148651      Not provided                  Not provided  Not Provided   \n",
      "148651  148652      Not provided                  Not provided  Not Provided   \n",
      "148652  148653      Not provided                  Not provided  Not Provided   \n",
      "148653  148654         Joe Lopez    Counselor, Log Cabin Ranch          0.00   \n",
      "\n",
      "        OvertimePay      OtherPay      Benefits  TotalPay  TotalPayBenefits  \\\n",
      "148644          0.0          0.00          0.00      0.00              0.00   \n",
      "148645          0.0          0.00          0.00      0.00              0.00   \n",
      "148646          NaN  Not Provided  Not Provided      0.00              0.00   \n",
      "148647          0.0          0.00          0.00      0.00              0.00   \n",
      "148648          0.0          0.00          0.00      0.00              0.00   \n",
      "148649          0.0          0.00          0.00      0.00              0.00   \n",
      "148650          NaN  Not Provided  Not Provided      0.00              0.00   \n",
      "148651          NaN  Not Provided  Not Provided      0.00              0.00   \n",
      "148652          NaN  Not Provided  Not Provided      0.00              0.00   \n",
      "148653          0.0       -618.13          0.00   -618.13           -618.13   \n",
      "\n",
      "        Year Notes         Agency Status  \n",
      "148644  2014  None  San Francisco     PT  \n",
      "148645  2014  None  San Francisco     PT  \n",
      "148646  2014  None  San Francisco   None  \n",
      "148647  2014  None  San Francisco     PT  \n",
      "148648  2014  None  San Francisco     PT  \n",
      "148649  2014  None  San Francisco     PT  \n",
      "148650  2014  None  San Francisco   None  \n",
      "148651  2014  None  San Francisco   None  \n",
      "148652  2014  None  San Francisco   None  \n",
      "148653  2014  None  San Francisco     PT  \n"
     ]
    }
   ],
   "source": [
    "#Convertir el dataframe a CSV\n",
    "df.to_csv('Salaries.csv', index=False)\n",
    "#Mostrar 10 ultimos valores del csv\n",
    "print(f'''\n",
    "Ultimos 10 valores del CSV:\n",
    "{df.tail(10)}''')"
   ]
  }
 ],
 "metadata": {
  "kernelspec": {
   "display_name": "Python 3",
   "language": "python",
   "name": "python3"
  },
  "language_info": {
   "codemirror_mode": {
    "name": "ipython",
    "version": 3
   },
   "file_extension": ".py",
   "mimetype": "text/x-python",
   "name": "python",
   "nbconvert_exporter": "python",
   "pygments_lexer": "ipython3",
   "version": "3.11.9"
  }
 },
 "nbformat": 4,
 "nbformat_minor": 5
}
